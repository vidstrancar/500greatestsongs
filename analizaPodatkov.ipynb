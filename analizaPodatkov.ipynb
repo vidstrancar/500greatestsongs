{
 "cells": [
  {
   "cell_type": "markdown",
   "metadata": {},
   "source": [
    "# Seznam 500 najboljših pesmi"
   ]
  },
  {
   "cell_type": "code",
   "execution_count": 2,
   "metadata": {
    "collapsed": true
   },
   "outputs": [],
   "source": [
    "import pandas as pd"
   ]
  },
  {
   "cell_type": "code",
   "execution_count": 3,
   "metadata": {
    "collapsed": true
   },
   "outputs": [],
   "source": [
    "pd.options.display.max_rows = 20"
   ]
  },
  {
   "cell_type": "code",
   "execution_count": 4,
   "metadata": {
    "collapsed": false
   },
   "outputs": [],
   "source": [
    "pesmi = pd.read_csv('seznamPodatki.csv')[['avtor', 'naslov', 'duration','view_count', 'like_count', 'dislike_count', 'average_rating']]"
   ]
  },
  {
   "cell_type": "markdown",
   "metadata": {},
   "source": [
    "## Seznam 500 najboljših pesmi po izboru revije Rolling Stone Magazine"
   ]
  },
  {
   "cell_type": "markdown",
   "metadata": {},
   "source": [
    "### Legenda:\n",
    "* duration - dolžina pesmi v sekundah\n",
    "* view_count - število ogledov\n",
    "* like_count - število všečkov\n",
    "* dislike_count - število nevšečkov\n",
    "* average_rating - youtube ocena"
   ]
  },
  {
   "cell_type": "code",
   "execution_count": 5,
   "metadata": {
    "collapsed": false,
    "scrolled": true
   },
   "outputs": [
    {
     "data": {
      "text/html": [
       "<div>\n",
       "<table border=\"1\" class=\"dataframe\">\n",
       "  <thead>\n",
       "    <tr style=\"text-align: right;\">\n",
       "      <th></th>\n",
       "      <th>avtor</th>\n",
       "      <th>naslov</th>\n",
       "      <th>duration</th>\n",
       "      <th>view_count</th>\n",
       "      <th>like_count</th>\n",
       "      <th>dislike_count</th>\n",
       "      <th>average_rating</th>\n",
       "    </tr>\n",
       "  </thead>\n",
       "  <tbody>\n",
       "    <tr>\n",
       "      <th>0</th>\n",
       "      <td>Bob Dylan</td>\n",
       "      <td>Like A Rolling Stone</td>\n",
       "      <td>356</td>\n",
       "      <td>3258464</td>\n",
       "      <td>12714.0</td>\n",
       "      <td>893.0</td>\n",
       "      <td>4.737488</td>\n",
       "    </tr>\n",
       "    <tr>\n",
       "      <th>1</th>\n",
       "      <td>The Rolling Stones</td>\n",
       "      <td>(I Can't Get No) Satisfaction</td>\n",
       "      <td>235</td>\n",
       "      <td>18036631</td>\n",
       "      <td>100892.0</td>\n",
       "      <td>2337.0</td>\n",
       "      <td>4.909444</td>\n",
       "    </tr>\n",
       "    <tr>\n",
       "      <th>2</th>\n",
       "      <td>John Lennon</td>\n",
       "      <td>Imagine</td>\n",
       "      <td>235</td>\n",
       "      <td>43365642</td>\n",
       "      <td>246475.0</td>\n",
       "      <td>6022.0</td>\n",
       "      <td>4.904601</td>\n",
       "    </tr>\n",
       "    <tr>\n",
       "      <th>3</th>\n",
       "      <td>Marvin Gaye</td>\n",
       "      <td>What's Going On</td>\n",
       "      <td>232</td>\n",
       "      <td>9169669</td>\n",
       "      <td>43655.0</td>\n",
       "      <td>1000.0</td>\n",
       "      <td>4.910424</td>\n",
       "    </tr>\n",
       "    <tr>\n",
       "      <th>4</th>\n",
       "      <td>Aretha Franklin</td>\n",
       "      <td>Respect</td>\n",
       "      <td>150</td>\n",
       "      <td>21004138</td>\n",
       "      <td>90965.0</td>\n",
       "      <td>1714.0</td>\n",
       "      <td>4.926024</td>\n",
       "    </tr>\n",
       "    <tr>\n",
       "      <th>5</th>\n",
       "      <td>The Beach Boys</td>\n",
       "      <td>Good Vibrations</td>\n",
       "      <td>217</td>\n",
       "      <td>7679957</td>\n",
       "      <td>28109.0</td>\n",
       "      <td>707.0</td>\n",
       "      <td>4.901860</td>\n",
       "    </tr>\n",
       "    <tr>\n",
       "      <th>6</th>\n",
       "      <td>Chuck Berry</td>\n",
       "      <td>Johnny B. Goode</td>\n",
       "      <td>162</td>\n",
       "      <td>18582541</td>\n",
       "      <td>92625.0</td>\n",
       "      <td>2174.0</td>\n",
       "      <td>4.908269</td>\n",
       "    </tr>\n",
       "    <tr>\n",
       "      <th>7</th>\n",
       "      <td>The Beatles</td>\n",
       "      <td>Hey Jude</td>\n",
       "      <td>490</td>\n",
       "      <td>43823478</td>\n",
       "      <td>209883.0</td>\n",
       "      <td>6432.0</td>\n",
       "      <td>4.881063</td>\n",
       "    </tr>\n",
       "    <tr>\n",
       "      <th>8</th>\n",
       "      <td>Nirvana</td>\n",
       "      <td>Smells Like Teen Spirit</td>\n",
       "      <td>277</td>\n",
       "      <td>485113211</td>\n",
       "      <td>2451402.0</td>\n",
       "      <td>69628.0</td>\n",
       "      <td>4.889524</td>\n",
       "    </tr>\n",
       "    <tr>\n",
       "      <th>9</th>\n",
       "      <td>Ray Charles</td>\n",
       "      <td>What'd I Say</td>\n",
       "      <td>389</td>\n",
       "      <td>2015142</td>\n",
       "      <td>8809.0</td>\n",
       "      <td>227.0</td>\n",
       "      <td>4.899513</td>\n",
       "    </tr>\n",
       "    <tr>\n",
       "      <th>...</th>\n",
       "      <td>...</td>\n",
       "      <td>...</td>\n",
       "      <td>...</td>\n",
       "      <td>...</td>\n",
       "      <td>...</td>\n",
       "      <td>...</td>\n",
       "      <td>...</td>\n",
       "    </tr>\n",
       "    <tr>\n",
       "      <th>489</th>\n",
       "      <td>Dusty Springfield</td>\n",
       "      <td>You Don't Have To Say You Love Me</td>\n",
       "      <td>183</td>\n",
       "      <td>6074520</td>\n",
       "      <td>22319.0</td>\n",
       "      <td>515.0</td>\n",
       "      <td>4.909784</td>\n",
       "    </tr>\n",
       "    <tr>\n",
       "      <th>490</th>\n",
       "      <td>Jackson Browne</td>\n",
       "      <td>Running On Empty</td>\n",
       "      <td>2493</td>\n",
       "      <td>436455</td>\n",
       "      <td>1895.0</td>\n",
       "      <td>91.0</td>\n",
       "      <td>4.816717</td>\n",
       "    </tr>\n",
       "    <tr>\n",
       "      <th>491</th>\n",
       "      <td>The Crystals</td>\n",
       "      <td>Then He Kissed Me</td>\n",
       "      <td>156</td>\n",
       "      <td>18261730</td>\n",
       "      <td>55387.0</td>\n",
       "      <td>1986.0</td>\n",
       "      <td>4.861537</td>\n",
       "    </tr>\n",
       "    <tr>\n",
       "      <th>492</th>\n",
       "      <td>Eagles</td>\n",
       "      <td>Desperado</td>\n",
       "      <td>215</td>\n",
       "      <td>11837271</td>\n",
       "      <td>35670.0</td>\n",
       "      <td>1529.0</td>\n",
       "      <td>4.835587</td>\n",
       "    </tr>\n",
       "    <tr>\n",
       "      <th>493</th>\n",
       "      <td>The Miracles</td>\n",
       "      <td>Shop Around</td>\n",
       "      <td>171</td>\n",
       "      <td>1384137</td>\n",
       "      <td>3136.0</td>\n",
       "      <td>140.0</td>\n",
       "      <td>4.829060</td>\n",
       "    </tr>\n",
       "    <tr>\n",
       "      <th>494</th>\n",
       "      <td>The Rolling Stones</td>\n",
       "      <td>Miss You</td>\n",
       "      <td>213</td>\n",
       "      <td>14977209</td>\n",
       "      <td>51609.0</td>\n",
       "      <td>971.0</td>\n",
       "      <td>4.926132</td>\n",
       "    </tr>\n",
       "    <tr>\n",
       "      <th>495</th>\n",
       "      <td>Weezer</td>\n",
       "      <td>Buddy Holly</td>\n",
       "      <td>241</td>\n",
       "      <td>28922623</td>\n",
       "      <td>111532.0</td>\n",
       "      <td>2974.0</td>\n",
       "      <td>4.896110</td>\n",
       "    </tr>\n",
       "    <tr>\n",
       "      <th>496</th>\n",
       "      <td>Brook Benton</td>\n",
       "      <td>Rainy Night In Georgia</td>\n",
       "      <td>233</td>\n",
       "      <td>2568181</td>\n",
       "      <td>19305.0</td>\n",
       "      <td>531.0</td>\n",
       "      <td>4.892922</td>\n",
       "    </tr>\n",
       "    <tr>\n",
       "      <th>497</th>\n",
       "      <td>Thin Lizzy</td>\n",
       "      <td>The Boys Are Back In Town</td>\n",
       "      <td>264</td>\n",
       "      <td>6497246</td>\n",
       "      <td>30530.0</td>\n",
       "      <td>653.0</td>\n",
       "      <td>4.916236</td>\n",
       "    </tr>\n",
       "    <tr>\n",
       "      <th>498</th>\n",
       "      <td>Boston</td>\n",
       "      <td>More Than A Feeling</td>\n",
       "      <td>285</td>\n",
       "      <td>70842005</td>\n",
       "      <td>272907.0</td>\n",
       "      <td>8960.0</td>\n",
       "      <td>4.872848</td>\n",
       "    </tr>\n",
       "  </tbody>\n",
       "</table>\n",
       "<p>499 rows × 7 columns</p>\n",
       "</div>"
      ],
      "text/plain": [
       "                  avtor                             naslov  duration  \\\n",
       "0             Bob Dylan               Like A Rolling Stone       356   \n",
       "1    The Rolling Stones      (I Can't Get No) Satisfaction       235   \n",
       "2           John Lennon                            Imagine       235   \n",
       "3           Marvin Gaye                    What's Going On       232   \n",
       "4       Aretha Franklin                            Respect       150   \n",
       "5        The Beach Boys                    Good Vibrations       217   \n",
       "6           Chuck Berry                    Johnny B. Goode       162   \n",
       "7           The Beatles                           Hey Jude       490   \n",
       "8               Nirvana            Smells Like Teen Spirit       277   \n",
       "9           Ray Charles                       What'd I Say       389   \n",
       "..                  ...                                ...       ...   \n",
       "489   Dusty Springfield  You Don't Have To Say You Love Me       183   \n",
       "490      Jackson Browne                   Running On Empty      2493   \n",
       "491        The Crystals                  Then He Kissed Me       156   \n",
       "492              Eagles                          Desperado       215   \n",
       "493        The Miracles                        Shop Around       171   \n",
       "494  The Rolling Stones                           Miss You       213   \n",
       "495              Weezer                        Buddy Holly       241   \n",
       "496        Brook Benton             Rainy Night In Georgia       233   \n",
       "497          Thin Lizzy          The Boys Are Back In Town       264   \n",
       "498              Boston                More Than A Feeling       285   \n",
       "\n",
       "     view_count  like_count  dislike_count  average_rating  \n",
       "0       3258464     12714.0          893.0        4.737488  \n",
       "1      18036631    100892.0         2337.0        4.909444  \n",
       "2      43365642    246475.0         6022.0        4.904601  \n",
       "3       9169669     43655.0         1000.0        4.910424  \n",
       "4      21004138     90965.0         1714.0        4.926024  \n",
       "5       7679957     28109.0          707.0        4.901860  \n",
       "6      18582541     92625.0         2174.0        4.908269  \n",
       "7      43823478    209883.0         6432.0        4.881063  \n",
       "8     485113211   2451402.0        69628.0        4.889524  \n",
       "9       2015142      8809.0          227.0        4.899513  \n",
       "..          ...         ...            ...             ...  \n",
       "489     6074520     22319.0          515.0        4.909784  \n",
       "490      436455      1895.0           91.0        4.816717  \n",
       "491    18261730     55387.0         1986.0        4.861537  \n",
       "492    11837271     35670.0         1529.0        4.835587  \n",
       "493     1384137      3136.0          140.0        4.829060  \n",
       "494    14977209     51609.0          971.0        4.926132  \n",
       "495    28922623    111532.0         2974.0        4.896110  \n",
       "496     2568181     19305.0          531.0        4.892922  \n",
       "497     6497246     30530.0          653.0        4.916236  \n",
       "498    70842005    272907.0         8960.0        4.872848  \n",
       "\n",
       "[499 rows x 7 columns]"
      ]
     },
     "execution_count": 5,
     "metadata": {},
     "output_type": "execute_result"
    }
   ],
   "source": [
    "pesmi"
   ]
  },
  {
   "cell_type": "markdown",
   "metadata": {},
   "source": [
    "## Seznam preurejen glede na razmerje (število ogledov * število všečkov) / (število nevššečkov)"
   ]
  },
  {
   "cell_type": "code",
   "execution_count": 33,
   "metadata": {
    "collapsed": true
   },
   "outputs": [],
   "source": [
    "pesmi['my_rating'] = pesmi.view_count * pesmi.like_count / (pesmi.dislike_count + 1)"
   ]
  },
  {
   "cell_type": "code",
   "execution_count": 25,
   "metadata": {
    "collapsed": false,
    "scrolled": false
   },
   "outputs": [
    {
     "data": {
      "text/html": [
       "<div>\n",
       "<table border=\"1\" class=\"dataframe\">\n",
       "  <thead>\n",
       "    <tr style=\"text-align: right;\">\n",
       "      <th></th>\n",
       "      <th>avtor</th>\n",
       "      <th>naslov</th>\n",
       "      <th>my_rating</th>\n",
       "    </tr>\n",
       "  </thead>\n",
       "  <tbody>\n",
       "    <tr>\n",
       "      <th>8</th>\n",
       "      <td>Nirvana</td>\n",
       "      <td>Smells Like Teen Spirit</td>\n",
       "      <td>1.707920e+10</td>\n",
       "    </tr>\n",
       "    <tr>\n",
       "      <th>194</th>\n",
       "      <td>Guns N' Roses</td>\n",
       "      <td>Sweet Child O' Mine</td>\n",
       "      <td>1.221323e+10</td>\n",
       "    </tr>\n",
       "    <tr>\n",
       "      <th>82</th>\n",
       "      <td>The Police</td>\n",
       "      <td>Every Breath You Take</td>\n",
       "      <td>1.123533e+10</td>\n",
       "    </tr>\n",
       "    <tr>\n",
       "      <th>161</th>\n",
       "      <td>Queen</td>\n",
       "      <td>Bohemian Rhapsody</td>\n",
       "      <td>1.085794e+10</td>\n",
       "    </tr>\n",
       "    <tr>\n",
       "      <th>167</th>\n",
       "      <td>R.E.M.</td>\n",
       "      <td>Losing My Religion</td>\n",
       "      <td>9.402949e+09</td>\n",
       "    </tr>\n",
       "    <tr>\n",
       "      <th>380</th>\n",
       "      <td>The Verve</td>\n",
       "      <td>Bitter Sweet Symphony</td>\n",
       "      <td>9.019149e+09</td>\n",
       "    </tr>\n",
       "    <tr>\n",
       "      <th>56</th>\n",
       "      <td>Michael Jackson</td>\n",
       "      <td>Billie Jean</td>\n",
       "      <td>8.373950e+09</td>\n",
       "    </tr>\n",
       "    <tr>\n",
       "      <th>278</th>\n",
       "      <td>Bill Withers</td>\n",
       "      <td>Ain't No Sunshine</td>\n",
       "      <td>7.424209e+09</td>\n",
       "    </tr>\n",
       "    <tr>\n",
       "      <th>451</th>\n",
       "      <td>Guns N' Roses</td>\n",
       "      <td>Paradise City</td>\n",
       "      <td>7.173366e+09</td>\n",
       "    </tr>\n",
       "    <tr>\n",
       "      <th>443</th>\n",
       "      <td>Nirvana</td>\n",
       "      <td>Come As You Are</td>\n",
       "      <td>7.112873e+09</td>\n",
       "    </tr>\n",
       "    <tr>\n",
       "      <th>...</th>\n",
       "      <td>...</td>\n",
       "      <td>...</td>\n",
       "      <td>...</td>\n",
       "    </tr>\n",
       "    <tr>\n",
       "      <th>461</th>\n",
       "      <td>The Beatles</td>\n",
       "      <td>Rain</td>\n",
       "      <td>6.762453e+05</td>\n",
       "    </tr>\n",
       "    <tr>\n",
       "      <th>230</th>\n",
       "      <td>Roy Orbison</td>\n",
       "      <td>Only The Lonely (Know The Way I Feel)</td>\n",
       "      <td>5.449467e+05</td>\n",
       "    </tr>\n",
       "    <tr>\n",
       "      <th>106</th>\n",
       "      <td>Prince</td>\n",
       "      <td>Little Red Corvette</td>\n",
       "      <td>3.765265e+05</td>\n",
       "    </tr>\n",
       "    <tr>\n",
       "      <th>239</th>\n",
       "      <td>Sly and The Family Stone</td>\n",
       "      <td>Stand!</td>\n",
       "      <td>2.820090e+05</td>\n",
       "    </tr>\n",
       "    <tr>\n",
       "      <th>262</th>\n",
       "      <td>Randy Newman</td>\n",
       "      <td>Sail Away</td>\n",
       "      <td>2.087100e+05</td>\n",
       "    </tr>\n",
       "    <tr>\n",
       "      <th>210</th>\n",
       "      <td>Prince</td>\n",
       "      <td>1999</td>\n",
       "      <td>8.964000e+03</td>\n",
       "    </tr>\n",
       "    <tr>\n",
       "      <th>288</th>\n",
       "      <td>Eminem</td>\n",
       "      <td>Stan\"&gt;Stan&lt;/a&gt;&lt;/b&gt; by &lt;a href=\"/wiki/Eminem\" t...</td>\n",
       "      <td>0.000000e+00</td>\n",
       "    </tr>\n",
       "    <tr>\n",
       "      <th>13</th>\n",
       "      <td>Bob Dylan</td>\n",
       "      <td>Blowin' In The Wind</td>\n",
       "      <td>NaN</td>\n",
       "    </tr>\n",
       "    <tr>\n",
       "      <th>24</th>\n",
       "      <td>The Beach Boys</td>\n",
       "      <td>God Only Knows</td>\n",
       "      <td>NaN</td>\n",
       "    </tr>\n",
       "    <tr>\n",
       "      <th>105</th>\n",
       "      <td>The Crickets</td>\n",
       "      <td>Not Fade Away</td>\n",
       "      <td>NaN</td>\n",
       "    </tr>\n",
       "  </tbody>\n",
       "</table>\n",
       "<p>499 rows × 3 columns</p>\n",
       "</div>"
      ],
      "text/plain": [
       "                        avtor  \\\n",
       "8                     Nirvana   \n",
       "194             Guns N' Roses   \n",
       "82                 The Police   \n",
       "161                     Queen   \n",
       "167                    R.E.M.   \n",
       "380                 The Verve   \n",
       "56            Michael Jackson   \n",
       "278              Bill Withers   \n",
       "451             Guns N' Roses   \n",
       "443                   Nirvana   \n",
       "..                        ...   \n",
       "461               The Beatles   \n",
       "230               Roy Orbison   \n",
       "106                    Prince   \n",
       "239  Sly and The Family Stone   \n",
       "262              Randy Newman   \n",
       "210                    Prince   \n",
       "288                    Eminem   \n",
       "13                  Bob Dylan   \n",
       "24             The Beach Boys   \n",
       "105              The Crickets   \n",
       "\n",
       "                                                naslov     my_rating  \n",
       "8                              Smells Like Teen Spirit  1.707920e+10  \n",
       "194                                Sweet Child O' Mine  1.221323e+10  \n",
       "82                               Every Breath You Take  1.123533e+10  \n",
       "161                                  Bohemian Rhapsody  1.085794e+10  \n",
       "167                                 Losing My Religion  9.402949e+09  \n",
       "380                              Bitter Sweet Symphony  9.019149e+09  \n",
       "56                                         Billie Jean  8.373950e+09  \n",
       "278                                  Ain't No Sunshine  7.424209e+09  \n",
       "451                                      Paradise City  7.173366e+09  \n",
       "443                                    Come As You Are  7.112873e+09  \n",
       "..                                                 ...           ...  \n",
       "461                                               Rain  6.762453e+05  \n",
       "230              Only The Lonely (Know The Way I Feel)  5.449467e+05  \n",
       "106                                Little Red Corvette  3.765265e+05  \n",
       "239                                             Stand!  2.820090e+05  \n",
       "262                                          Sail Away  2.087100e+05  \n",
       "210                                               1999  8.964000e+03  \n",
       "288  Stan\">Stan</a></b> by <a href=\"/wiki/Eminem\" t...  0.000000e+00  \n",
       "13                                 Blowin' In The Wind           NaN  \n",
       "24                                      God Only Knows           NaN  \n",
       "105                                      Not Fade Away           NaN  \n",
       "\n",
       "[499 rows x 3 columns]"
      ]
     },
     "execution_count": 25,
     "metadata": {},
     "output_type": "execute_result"
    }
   ],
   "source": [
    "pesmi.sort_values('my_rating', ascending = False)[['avtor', 'naslov', 'my_rating']]"
   ]
  },
  {
   "cell_type": "markdown",
   "metadata": {},
   "source": [
    "## Seznam preurejen glede na število ur, ki so jih uporabniki youtube.com vložili v poslušanje teh pesmi"
   ]
  },
  {
   "cell_type": "code",
   "execution_count": 26,
   "metadata": {
    "collapsed": true
   },
   "outputs": [],
   "source": [
    "pesmi['vrednost'] = pesmi.duration * pesmi.view_count / 3600"
   ]
  },
  {
   "cell_type": "code",
   "execution_count": 27,
   "metadata": {
    "collapsed": false
   },
   "outputs": [
    {
     "data": {
      "text/html": [
       "<div>\n",
       "<table border=\"1\" class=\"dataframe\">\n",
       "  <thead>\n",
       "    <tr style=\"text-align: right;\">\n",
       "      <th></th>\n",
       "      <th>avtor</th>\n",
       "      <th>naslov</th>\n",
       "      <th>duration</th>\n",
       "      <th>view_count</th>\n",
       "      <th>like_count</th>\n",
       "      <th>dislike_count</th>\n",
       "      <th>average_rating</th>\n",
       "      <th>my_rating</th>\n",
       "      <th>vrednost</th>\n",
       "    </tr>\n",
       "  </thead>\n",
       "  <tbody>\n",
       "    <tr>\n",
       "      <th>8</th>\n",
       "      <td>Nirvana</td>\n",
       "      <td>Smells Like Teen Spirit</td>\n",
       "      <td>277</td>\n",
       "      <td>485113211</td>\n",
       "      <td>2451402.0</td>\n",
       "      <td>69628.0</td>\n",
       "      <td>4.889524</td>\n",
       "      <td>1.707920e+10</td>\n",
       "      <td>3.732677e+07</td>\n",
       "    </tr>\n",
       "    <tr>\n",
       "      <th>194</th>\n",
       "      <td>Guns N' Roses</td>\n",
       "      <td>Sweet Child O' Mine</td>\n",
       "      <td>299</td>\n",
       "      <td>422670019</td>\n",
       "      <td>1597830.0</td>\n",
       "      <td>55296.0</td>\n",
       "      <td>4.866202</td>\n",
       "      <td>1.221323e+10</td>\n",
       "      <td>3.510509e+07</td>\n",
       "    </tr>\n",
       "    <tr>\n",
       "      <th>161</th>\n",
       "      <td>Queen</td>\n",
       "      <td>Bohemian Rhapsody</td>\n",
       "      <td>367</td>\n",
       "      <td>326482119</td>\n",
       "      <td>1600545.0</td>\n",
       "      <td>48125.0</td>\n",
       "      <td>4.883239</td>\n",
       "      <td>1.085794e+10</td>\n",
       "      <td>3.328304e+07</td>\n",
       "    </tr>\n",
       "    <tr>\n",
       "      <th>451</th>\n",
       "      <td>Guns N' Roses</td>\n",
       "      <td>Paradise City</td>\n",
       "      <td>409</td>\n",
       "      <td>261632471</td>\n",
       "      <td>777402.0</td>\n",
       "      <td>28353.0</td>\n",
       "      <td>4.859248</td>\n",
       "      <td>7.173366e+09</td>\n",
       "      <td>2.972436e+07</td>\n",
       "    </tr>\n",
       "    <tr>\n",
       "      <th>30</th>\n",
       "      <td>Led Zeppelin</td>\n",
       "      <td>Stairway To Heaven</td>\n",
       "      <td>651</td>\n",
       "      <td>130907946</td>\n",
       "      <td>631300.0</td>\n",
       "      <td>15628.0</td>\n",
       "      <td>4.903371</td>\n",
       "      <td>5.287746e+09</td>\n",
       "      <td>2.367252e+07</td>\n",
       "    </tr>\n",
       "    <tr>\n",
       "      <th>167</th>\n",
       "      <td>R.E.M.</td>\n",
       "      <td>Losing My Religion</td>\n",
       "      <td>294</td>\n",
       "      <td>288149388</td>\n",
       "      <td>884039.0</td>\n",
       "      <td>27090.0</td>\n",
       "      <td>4.881071</td>\n",
       "      <td>9.402949e+09</td>\n",
       "      <td>2.353220e+07</td>\n",
       "    </tr>\n",
       "    <tr>\n",
       "      <th>82</th>\n",
       "      <td>The Police</td>\n",
       "      <td>Every Breath You Take</td>\n",
       "      <td>236</td>\n",
       "      <td>349927557</td>\n",
       "      <td>1041217.0</td>\n",
       "      <td>32428.0</td>\n",
       "      <td>4.879185</td>\n",
       "      <td>1.123533e+10</td>\n",
       "      <td>2.293970e+07</td>\n",
       "    </tr>\n",
       "    <tr>\n",
       "      <th>56</th>\n",
       "      <td>Michael Jackson</td>\n",
       "      <td>Billie Jean</td>\n",
       "      <td>296</td>\n",
       "      <td>265748869</td>\n",
       "      <td>988083.0</td>\n",
       "      <td>31356.0</td>\n",
       "      <td>4.876967</td>\n",
       "      <td>8.373950e+09</td>\n",
       "      <td>2.185046e+07</td>\n",
       "    </tr>\n",
       "    <tr>\n",
       "      <th>380</th>\n",
       "      <td>The Verve</td>\n",
       "      <td>Bitter Sweet Symphony</td>\n",
       "      <td>278</td>\n",
       "      <td>282850233</td>\n",
       "      <td>1171484.0</td>\n",
       "      <td>36738.0</td>\n",
       "      <td>4.878373</td>\n",
       "      <td>9.019149e+09</td>\n",
       "      <td>2.184232e+07</td>\n",
       "    </tr>\n",
       "    <tr>\n",
       "      <th>178</th>\n",
       "      <td>OutKast</td>\n",
       "      <td>Hey Ya!</td>\n",
       "      <td>303</td>\n",
       "      <td>212562847</td>\n",
       "      <td>1085110.0</td>\n",
       "      <td>33739.0</td>\n",
       "      <td>4.879380</td>\n",
       "      <td>6.836220e+09</td>\n",
       "      <td>1.789071e+07</td>\n",
       "    </tr>\n",
       "  </tbody>\n",
       "</table>\n",
       "</div>"
      ],
      "text/plain": [
       "               avtor                   naslov  duration  view_count  \\\n",
       "8            Nirvana  Smells Like Teen Spirit       277   485113211   \n",
       "194    Guns N' Roses      Sweet Child O' Mine       299   422670019   \n",
       "161            Queen        Bohemian Rhapsody       367   326482119   \n",
       "451    Guns N' Roses            Paradise City       409   261632471   \n",
       "30      Led Zeppelin       Stairway To Heaven       651   130907946   \n",
       "167           R.E.M.       Losing My Religion       294   288149388   \n",
       "82        The Police    Every Breath You Take       236   349927557   \n",
       "56   Michael Jackson              Billie Jean       296   265748869   \n",
       "380        The Verve    Bitter Sweet Symphony       278   282850233   \n",
       "178          OutKast                  Hey Ya!       303   212562847   \n",
       "\n",
       "     like_count  dislike_count  average_rating     my_rating      vrednost  \n",
       "8     2451402.0        69628.0        4.889524  1.707920e+10  3.732677e+07  \n",
       "194   1597830.0        55296.0        4.866202  1.221323e+10  3.510509e+07  \n",
       "161   1600545.0        48125.0        4.883239  1.085794e+10  3.328304e+07  \n",
       "451    777402.0        28353.0        4.859248  7.173366e+09  2.972436e+07  \n",
       "30     631300.0        15628.0        4.903371  5.287746e+09  2.367252e+07  \n",
       "167    884039.0        27090.0        4.881071  9.402949e+09  2.353220e+07  \n",
       "82    1041217.0        32428.0        4.879185  1.123533e+10  2.293970e+07  \n",
       "56     988083.0        31356.0        4.876967  8.373950e+09  2.185046e+07  \n",
       "380   1171484.0        36738.0        4.878373  9.019149e+09  2.184232e+07  \n",
       "178   1085110.0        33739.0        4.879380  6.836220e+09  1.789071e+07  "
      ]
     },
     "execution_count": 27,
     "metadata": {},
     "output_type": "execute_result"
    }
   ],
   "source": [
    "pesmi.sort_values('vrednost', ascending = False)[:10]"
   ]
  },
  {
   "cell_type": "markdown",
   "metadata": {},
   "source": [
    "## Ugotavljanje kateri izmed zajetih podatkov naredi seznam najbolj podoben originalnemu"
   ]
  },
  {
   "cell_type": "markdown",
   "metadata": {},
   "source": [
    "Pri tem uporabljamo funkcijo orodja.primerjajSeznama. Orodja.primerjajSeznama vzame dva seznama, ki vsebujeta iste pesmi vendar v drugem vrstenm redu. Za vsako pesem iz seznama izračunamo razdaljo med lokacijo te pesmi na prvem seznamu in na drugem. Če je ta manjša od pomožnega parametra R, povečamo vrednost \"podobnosti\" za ena.\n",
    "Seznama, katerima .primerjajSeznama vrne največjo vrednost sta najbolj podobna."
   ]
  },
  {
   "cell_type": "code",
   "execution_count": 28,
   "metadata": {
    "collapsed": true
   },
   "outputs": [],
   "source": [
    "import orodja"
   ]
  },
  {
   "cell_type": "code",
   "execution_count": 29,
   "metadata": {
    "collapsed": false
   },
   "outputs": [],
   "source": [
    "sez = pesmi[['avtor','naslov']]"
   ]
  },
  {
   "cell_type": "code",
   "execution_count": 30,
   "metadata": {
    "collapsed": false
   },
   "outputs": [],
   "source": [
    "sez1 = pesmi.sort_values('average_rating', ascending = False)[['avtor','naslov']]"
   ]
  },
  {
   "cell_type": "code",
   "execution_count": 31,
   "metadata": {
    "collapsed": true
   },
   "outputs": [],
   "source": [
    "sez2 = pesmi.sort_values('like_count', ascending = False)[['avtor','naslov']]"
   ]
  },
  {
   "cell_type": "code",
   "execution_count": 32,
   "metadata": {
    "collapsed": true
   },
   "outputs": [],
   "source": [
    "sez3 = pesmi.sort_values('dislike_count', ascending = True)[['avtor','naslov']]"
   ]
  },
  {
   "cell_type": "code",
   "execution_count": 34,
   "metadata": {
    "collapsed": false
   },
   "outputs": [],
   "source": [
    "sez4 = pesmi.sort_values('my_rating', ascending = False)[['avtor','naslov']]"
   ]
  },
  {
   "cell_type": "code",
   "execution_count": 35,
   "metadata": {
    "collapsed": true
   },
   "outputs": [],
   "source": [
    "sez5 = pesmi.sort_values('vrednost', ascending = False)[['avtor','naslov']]"
   ]
  },
  {
   "cell_type": "code",
   "execution_count": 36,
   "metadata": {
    "collapsed": false
   },
   "outputs": [
    {
     "data": {
      "text/plain": [
       "17"
      ]
     },
     "execution_count": 36,
     "metadata": {},
     "output_type": "execute_result"
    }
   ],
   "source": [
    "orodja.primerjajSeznama(sez, sez1, 10)"
   ]
  },
  {
   "cell_type": "code",
   "execution_count": 37,
   "metadata": {
    "collapsed": false
   },
   "outputs": [
    {
     "data": {
      "text/plain": [
       "26"
      ]
     },
     "execution_count": 37,
     "metadata": {},
     "output_type": "execute_result"
    }
   ],
   "source": [
    "orodja.primerjajSeznama(sez, sez2, 10)"
   ]
  },
  {
   "cell_type": "code",
   "execution_count": 38,
   "metadata": {
    "collapsed": false
   },
   "outputs": [
    {
     "data": {
      "text/plain": [
       "10"
      ]
     },
     "execution_count": 38,
     "metadata": {},
     "output_type": "execute_result"
    }
   ],
   "source": [
    "orodja.primerjajSeznama(sez, sez3, 10)"
   ]
  },
  {
   "cell_type": "code",
   "execution_count": 39,
   "metadata": {
    "collapsed": false
   },
   "outputs": [
    {
     "data": {
      "text/plain": [
       "24"
      ]
     },
     "execution_count": 39,
     "metadata": {},
     "output_type": "execute_result"
    }
   ],
   "source": [
    "orodja.primerjajSeznama(sez, sez4, 10)"
   ]
  },
  {
   "cell_type": "code",
   "execution_count": 40,
   "metadata": {
    "collapsed": false
   },
   "outputs": [
    {
     "data": {
      "text/plain": [
       "17"
      ]
     },
     "execution_count": 40,
     "metadata": {},
     "output_type": "execute_result"
    }
   ],
   "source": [
    "orodja.primerjajSeznama(sez, sez5, 10)"
   ]
  },
  {
   "cell_type": "markdown",
   "metadata": {
    "collapsed": true
   },
   "source": [
    "Očitno dobimo najbolj podoben (a še vedno zelo drugačen) seznam, če ga uredimo po številu všečkov."
   ]
  },
  {
   "cell_type": "markdown",
   "metadata": {},
   "source": [
    "## Porazdelitev števila pesmi s seznama glede na njihov youtube oceno"
   ]
  },
  {
   "cell_type": "code",
   "execution_count": 8,
   "metadata": {
    "collapsed": false
   },
   "outputs": [],
   "source": [
    "pesmi['rating'] = round(pesmi.average_rating, 2)"
   ]
  },
  {
   "cell_type": "code",
   "execution_count": 10,
   "metadata": {
    "collapsed": false
   },
   "outputs": [],
   "source": [
    "pesmiPoOceni = pesmi.groupby('rating')"
   ]
  },
  {
   "cell_type": "code",
   "execution_count": 11,
   "metadata": {
    "collapsed": true
   },
   "outputs": [],
   "source": [
    "%matplotlib inline"
   ]
  },
  {
   "cell_type": "code",
   "execution_count": 12,
   "metadata": {
    "collapsed": false
   },
   "outputs": [
    {
     "data": {
      "text/plain": [
       "<matplotlib.axes._subplots.AxesSubplot at 0x7f815a5267b8>"
      ]
     },
     "execution_count": 12,
     "metadata": {},
     "output_type": "execute_result"
    },
    {
     "data": {
      "image/png": "[encoded data removed]",
      "text/plain": [
       "<matplotlib.figure.Figure at 0x7f815c2a07b8>"
      ]
     },
     "metadata": {},
     "output_type": "display_data"
    }
   ],
   "source": [
    "pesmiPoOceni.size().plot()"
   ]
  },
  {
   "cell_type": "code",
   "execution_count": null,
   "metadata": {
    "collapsed": true
   },
   "outputs": [],
   "source": []
  }
 ],
 "metadata": {
  "kernelspec": {
   "display_name": "Python 3",
   "language": "python",
   "name": "python3"
  },
  "language_info": {
   "codemirror_mode": {
    "name": "ipython",
    "version": 3
   },
   "file_extension": ".py",
   "mimetype": "text/x-python",
   "name": "python",
   "nbconvert_exporter": "python",
   "pygments_lexer": "ipython3",
   "version": "3.6.0"
  }
 },
 "nbformat": 4,
 "nbformat_minor": 2
}
